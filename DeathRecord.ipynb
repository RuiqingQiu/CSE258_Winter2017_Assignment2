{
 "cells": [
  {
   "cell_type": "code",
   "execution_count": 25,
   "metadata": {
    "collapsed": false
   },
   "outputs": [
    {
     "name": "stdout",
     "output_type": "stream",
     "text": [
      "{0: 'Id', 1: 'ResidentStatus', 2: 'Education1989Revision', 3: 'Education2003Revision', 4: 'EducationReportingFlag', 5: 'MonthOfDeath', 6: 'Sex', 7: 'AgeType', 8: 'Age', 9: 'AgeSubstitutionFlag', 10: 'AgeRecode52', 11: 'AgeRecode27', 12: 'AgeRecode12', 13: 'InfantAgeRecode22', 14: 'PlaceOfDeathAndDecedentsStatus', 15: 'MaritalStatus', 16: 'DayOfWeekOfDeath', 17: 'CurrentDataYear', 18: 'InjuryAtWork', 19: 'MannerOfDeath', 20: 'MethodOfDisposition', 21: 'Autopsy', 22: 'ActivityCode', 23: 'PlaceOfInjury', 24: 'Icd10Code', 25: 'CauseRecode358', 26: 'CauseRecode113', 27: 'InfantCauseRecode130', 28: 'CauseRecode39', 29: 'NumberOfEntityAxisConditions', 30: 'NumberOfRecordAxisConditions', 31: 'Race', 32: 'BridgedRaceFlag', 33: 'RaceImputationFlag', 34: 'RaceRecode3', 35: 'RaceRecode5', 36: 'HispanicOrigin', 37: 'HispanicOriginRaceRecode'}\n",
      "16001\n",
      "10000\n",
      "1000\n",
      "5000\n"
     ]
    }
   ],
   "source": [
    "# Load the dataset\n",
    "training_size = 10000\n",
    "validation_size = 1000\n",
    "test_size = 5000\n",
    "\n",
    "training_data = []\n",
    "validation_data = []\n",
    "test_data = []\n",
    "record_counts = 0\n",
    "category = {}\n",
    "with open('DeathRecords/DeathRecords.csv') as open_file:\n",
    "    for line in open_file:\n",
    "        if record_counts == 0:\n",
    "            tmp = map(str.rstrip, line.split(','))\n",
    "            index = 0\n",
    "            for item in tmp:\n",
    "                category[index] = item\n",
    "                index += 1\n",
    "            print category\n",
    "            record_counts += 1\n",
    "            continue\n",
    "        elif record_counts < 1 + training_size:\n",
    "            training_data.append(map(str.rstrip, line.split(',')))\n",
    "        elif record_counts < 1 + training_size + validation_size:\n",
    "            validation_data.append(map(str.rstrip, line.split(',')))\n",
    "        elif record_counts < 1 + training_size + validation_size + test_size:\n",
    "            test_data.append(map(str.rstrip, line.split(',')))\n",
    "        else:\n",
    "            break\n",
    "        record_counts += 1\n",
    "print record_counts\n",
    "print len(training_data)\n",
    "print len(validation_data)\n",
    "print len(test_data)"
   ]
  },
  {
   "cell_type": "code",
   "execution_count": 13,
   "metadata": {
    "collapsed": false
   },
   "outputs": [
    {
     "name": "stdout",
     "output_type": "stream",
     "text": [
      "Code,Description\r\n",
      "\n",
      "1,\"Under 1 year (includes not stated infant ages)\"\r\n",
      "\n",
      "2,\"1 - 4 years\"\r\n",
      "\n",
      "3,\"5 - 14 years\"\r\n",
      "\n",
      "4,\"15 - 24 years\"\r\n",
      "\n",
      "5,\"25 - 34 years\"\r\n",
      "\n",
      "6,\"35 - 44 years\"\r\n",
      "\n",
      "7,\"45 - 54 years\"\r\n",
      "\n",
      "8,\"55 - 64 years\"\r\n",
      "\n",
      "9,\"65 - 74 years\"\r\n",
      "\n",
      "10,\"75 - 84 years\"\r\n",
      "\n",
      "11,\"85 years and over\"\r\n",
      "\n",
      "12,\"Age not stated\"\r\n",
      "\n"
     ]
    }
   ],
   "source": [
    "ActivityCode = {}\n",
    "with open('DeathRecords/ActivityCode.csv') as open_file:\n",
    "    count = 0\n",
    "    for line in open_file:\n",
    "        if count == 0:\n",
    "            count += 1\n",
    "            continue\n",
    "        tmp = line.split(',')\n",
    "        ActivityCode[int(tmp[0])] = tmp[1].rstrip()\n",
    "with open('DeathRecords/AgeRecode12.csv') as open_file:\n",
    "    for line in open_file:\n",
    "        print line\n",
    "# AgeRecode27.csv\n",
    "# AgeRecode52.csv\n",
    "# AgeType.csv\n",
    "# BridgedRaceFlag.csv\n",
    "# DayOfWeekOfDeath.csv\n",
    "# DeathRecords.csv\n",
    "# Education1989Revision.csv\n",
    "# Education2003Revision.csv\n",
    "# EducationReportingFlag.csv\n",
    "# EntityAxisConditions.csv\n",
    "# HispanicOrigin.csv\n",
    "# HispanicOriginRaceRecode.csv\n",
    "# Icd10Code.csv\n",
    "# InfantAgeRecode22.csv\n",
    "# MannerOfDeath.csv\n",
    "# MaritalStatus.csv\n",
    "# MethodOfDisposition.csv\n",
    "# PlaceOfDeathAndDecedentsStatus.csv\n",
    "# PlaceOfInjury.csv\n",
    "# Race.csv\n",
    "# RaceImputationFlag.csv\n",
    "# RaceRecode3.csv\n",
    "# RaceRecode5.csv\n",
    "# RecordAxisConditions.csv\n",
    "# ResidentStatus.csv"
   ]
  },
  {
   "cell_type": "code",
   "execution_count": null,
   "metadata": {
    "collapsed": true
   },
   "outputs": [],
   "source": [
    "'''\n",
    "Information about all the entries\n",
    "Id (integer primary key) - Main identifier, used for joining with DeathRecordId in EntityAxisConditions and RecordAxisConditions tables.\n",
    "ResidentStatus (integer) - (e.g. 1 = Residents, 2 = Intrastate resident, etc)\n",
    "Education1989Revision (integer) - Years of education using the 1989 revision format (e.g. 8 = 8 years of elementary education)\n",
    "Education2003Revision (integer) - Years of education using the 2003 revision code (e.g. 8 = Doctorate or professional degree)\n",
    "EducationReportingFlag (integer) - (0 = 1989 revision was used on death certificate, 1 = 2003 revision was used)\n",
    "MonthOfDeath (integer) - Month of death (e.g. 1 = January, 12 = December)\n",
    "Sex (text) - (M = Male, F = Female)\n",
    "AgeType (integer) - Units for the Age column (e.g. 1 = Years, 2 = Months)\n",
    "Age (integer) - Age at death (in AgeType units)\n",
    "AgeSubstitutionFlag (integer) - (1 = Calculated age is substituted for reported age)\n",
    "AgeRecode52 (integer) - Age recoded into 52 bins (e.g. 1 = Under 1 hour)\n",
    "AgeRecode27 (integer) - Age recoded into 27 bins (e.g. 1 = Under 1 month)\n",
    "AgeRecode12 (integer) - Age recoded into 12 bins (e.g. 1 = Under 1 year)\n",
    "InfantAgeRecode22 (integer) - In the event of an infant, Age recoded into 22 bins (e.g. 1 = Under 1 hour)\n",
    "PlaceOfDeathAndDecedentsStatus (integer) - (e.g. 6 = Nursing home/long term care)\n",
    "MaritalStatus (text) - (e.g. M = married, D = divorced, W = widowed)\n",
    "DayOfWeekOfDeath (text) - (e.g. 1 = Sunday, 7 = Saturday)\n",
    "CurrentDataYear (text) - Year on death record. Always 2014 for this dataset.\n",
    "InjuryAtWork (text) - Was the person injured at work? (Y = yes, N = no, U = unknown)\n",
    "MannerOfDeath (integer) - (e.g. 1 = Accident, 2 = Suicides)\n",
    "MethodOfDisposition (text) - (e.g. B = burial, C = cremation)\n",
    "Autopsy (text) - Was an autopsy performed? (Y = Yes, N = No, U = Unknown)\n",
    "ActivityCode (integer) - (e.g. 0 = While engaged in sports activity, 1 = While engaged in leisure activity)\n",
    "PlaceOfInjury (integer) - (e.g. 0 = Home, 1 = Residential institution)\n",
    "Icd10Code (text) - ICD-10 code for the underlying cause of death (e.g. I251 = Atherosclerotic heart disease)\n",
    "CauseRecode358 (integer) - Cause of death recoded into 358 bins\n",
    "CauseRecode113 (integer) - Cause of death recoded into 113 bins\n",
    "InfantCauseRecode130 (integer) - Infant cause of death recoded into 130 bins\n",
    "CauseRecode39 (integer) - Cause of death recoded into 39 bins\n",
    "NumberOfEntityAxisConditions (integer) - Number of entries for this death record in the EntityAxisConditions table\n",
    "NumberOfRecordAxisConditions (integer) - Number of entries for this death record in the RecordAxisConditions table\n",
    "Race (integer) - Reported race (e.g. 1 = White, 2 = Black)\n",
    "BridgedRaceFlag (integer) - (e.g. 1 = Race is bridged)\n",
    "RaceImputationFlag (integer) - (e.g. 1 = Unknown race is imputed)\n",
    "RaceRecode3 (integer) - Race recoded into 3 bins (e.g. 2 = Races other than White or Black)\n",
    "RaceRecode5 (integer) - Race recoded into 5 bins (e.g. 4 = Asian or Pacific Islander)\n",
    "HispanicOrigin (integer) - (e.g. 220 = Central and South American)\n",
    "HispanicOriginRaceRecode (integer) - HispanicOrigin / Race recoded (e.g. 1 = Mexican)\n",
    "'''\n"
   ]
  },
  {
   "cell_type": "code",
   "execution_count": 28,
   "metadata": {
    "collapsed": false
   },
   "outputs": [],
   "source": [
    "import warnings\n",
    "warnings.filterwarnings('ignore')\n",
    "\n",
    "import pandas as pd\n",
    "import matplotlib.pyplot as plt\n",
    "import numpy as np\n",
    "import calendar\n",
    "%matplotlib inline"
   ]
  },
  {
   "cell_type": "code",
   "execution_count": 29,
   "metadata": {
    "collapsed": false
   },
   "outputs": [
    {
     "name": "stdout",
     "output_type": "stream",
     "text": [
      "2631171\n"
     ]
    }
   ],
   "source": [
    "# load disease description for each Icd10Code\n",
    "dficd = pd.read_csv('DeathRecords/Icd10Code.csv')\n",
    "\n",
    "dataset =  pd.read_csv('DeathRecords/DeathRecords.csv', header=0)\n",
    "print(len(dataset))"
   ]
  },
  {
   "cell_type": "code",
   "execution_count": 60,
   "metadata": {
    "collapsed": false
   },
   "outputs": [
    {
     "name": "stdout",
     "output_type": "stream",
     "text": [
      "    Code                                     Description\n",
      "0      1  Under 1 year (includes not stated infant ages)\n",
      "1      2                                     1 - 4 years\n",
      "2      3                                    5 - 14 years\n",
      "3      4                                   15 - 24 years\n",
      "4      5                                   25 - 34 years\n",
      "5      6                                   35 - 44 years\n",
      "6      7                                   45 - 54 years\n",
      "7      8                                   55 - 64 years\n",
      "8      9                                   65 - 74 years\n",
      "9     10                                   75 - 84 years\n",
      "10    11                               85 years and over\n",
      "11    12                                  Age not stated\n"
     ]
    }
   ],
   "source": [
    "ageRecode12 = pd.read_csv('DeathRecords/AgeRecode12.csv')\n",
    "print ageRecode12"
   ]
  },
  {
   "cell_type": "code",
   "execution_count": 65,
   "metadata": {
    "collapsed": false
   },
   "outputs": [
    {
     "name": "stdout",
     "output_type": "stream",
     "text": [
      "2630474\n"
     ]
    }
   ],
   "source": [
    "#cleaning data with bad age death, bad days of the week and not natural deaths.\n",
    "df = dataset[dataset.Age < 120][dataset.DayOfWeekOfDeath < 8]\n",
    "print(len(df))"
   ]
  },
  {
   "cell_type": "code",
   "execution_count": 64,
   "metadata": {
    "collapsed": false
   },
   "outputs": [
    {
     "name": "stdout",
     "output_type": "stream",
     "text": [
      "Under 1 year (includes not stated infant ages): 0\n",
      "1 - 4 years: 23076\n",
      "5 - 14 years: 3855\n",
      "15 - 24 years: 5282\n",
      "25 - 34 years: 28966\n",
      "35 - 44 years: 47425\n",
      "45 - 54 years: 71320\n",
      "55 - 64 years: 176483\n",
      "65 - 74 years: 349739\n",
      "75 - 84 years: 472517\n",
      "85 years and over: 625238\n",
      "Age not stated: 826573\n"
     ]
    }
   ],
   "source": [
    "# number of deaths by Age\n",
    "for i in range(12):\n",
    "    print str(ageRecode12.loc[i].Description) +  \": \" + str(len(df[df.AgeRecode12 == i]))"
   ]
  },
  {
   "cell_type": "code",
   "execution_count": 48,
   "metadata": {
    "collapsed": false
   },
   "outputs": [
    {
     "name": "stdout",
     "output_type": "stream",
     "text": [
      "2437935\n",
      "('men deaths in the dataset:', 1200087)\n",
      "('women deaths in the dataset:', 1237848)\n",
      "72.3758485843\n",
      "77.5207069042\n"
     ]
    }
   ],
   "source": [
    "mannerofdeath = pd.read_csv('DeathRecords/MannerOfDeath.csv')\n",
    "print(mannerofdeath)\n",
    "#cleaning data with bad age death, bad days of the week and not natural deaths.\n",
    "df = dataset[dataset.Age < 120][dataset.DayOfWeekOfDeath < 8][~dataset.MannerOfDeath.isin([1,2,3,6])]\n",
    "print(len(df))\n",
    "# number of deaths by sex\n",
    "print('men deaths in the dataset:', len(df[df.Sex == 'M']))\n",
    "print('women deaths in the dataset:', len(df[df.Sex == 'F']))\n",
    "print (df[df.Sex == 'M'].Age.mean())\n",
    "print (df[df.Sex == 'F'].Age.mean())"
   ]
  },
  {
   "cell_type": "code",
   "execution_count": 34,
   "metadata": {
    "collapsed": false
   },
   "outputs": [
    {
     "data": {
      "image/png": "[encoded data removed]",
      "text/plain": [
       "<matplotlib.figure.Figure at 0x114623ed0>"
      ]
     },
     "metadata": {},
     "output_type": "display_data"
    }
   ],
   "source": [
    "plt.figure()\n",
    "plt.title('histogram of death vs age by sex', fontsize=18)\n",
    "_ = plt.hist(df[df.Sex == 'M'].Age.tolist(), 10, alpha=0.5, label='M')\n",
    "_ = plt.hist(df[df.Sex == 'F'].Age.tolist(), 10, alpha=0.5, label='F')\n",
    "_ = plt.legend()"
   ]
  },
  {
   "cell_type": "code",
   "execution_count": 35,
   "metadata": {
    "collapsed": false
   },
   "outputs": [
    {
     "name": "stdout",
     "output_type": "stream",
     "text": [
      "('age between ', 0, 10, 'difference in deaths (men deaths - women deaths):', 2195)\n",
      "('age between ', 10, 20, 'difference in deaths (men deaths - women deaths):', 798)\n",
      "('age between ', 20, 30, 'difference in deaths (men deaths - women deaths):', 2479)\n",
      "('age between ', 30, 40, 'difference in deaths (men deaths - women deaths):', 3250)\n",
      "('age between ', 40, 50, 'difference in deaths (men deaths - women deaths):', 10719)\n",
      "('age between ', 50, 60, 'difference in deaths (men deaths - women deaths):', 43076)\n",
      "('age between ', 60, 70, 'difference in deaths (men deaths - women deaths):', 62734)\n",
      "('age between ', 70, 80, 'difference in deaths (men deaths - women deaths):', 35660)\n",
      "('age between ', 80, 90, 'difference in deaths (men deaths - women deaths):', -61873)\n",
      "('age between ', 90, 100, 'difference in deaths (men deaths - women deaths):', -120765)\n"
     ]
    }
   ],
   "source": [
    "malesDeaths  = df[df.Sex == 'M']\n",
    "femaleDeaths = df[df.Sex == 'F']\n",
    "\n",
    "for i in range(0, 10):\n",
    "    print(\"age between \",i*10,(i+1)*10,\"difference in deaths (men deaths - women deaths):\", len(malesDeaths[np.logical_and(malesDeaths.Age>i*10,malesDeaths.Age<(i+1)*10)])-len(femaleDeaths[np.logical_and(femaleDeaths.Age>i*10,femaleDeaths.Age<(i+1)*10)]))"
   ]
  },
  {
   "cell_type": "code",
   "execution_count": 36,
   "metadata": {
    "collapsed": true
   },
   "outputs": [],
   "source": [
    "malesDeaths60s=malesDeaths[malesDeaths.Age>=60][malesDeaths.Age<70]\n",
    "dficd.columns= ['Icd10Code', 'dx']\n",
    "malesDeaths60s =  pd.merge(malesDeaths60s, dficd, how='left', on='Icd10Code')"
   ]
  },
  {
   "cell_type": "code",
   "execution_count": 37,
   "metadata": {
    "collapsed": false
   },
   "outputs": [
    {
     "name": "stdout",
     "output_type": "stream",
     "text": [
      "('number of men deaths in 60s', 232459)\n"
     ]
    }
   ],
   "source": [
    "print (\"number of men deaths in 60s\",len(malesDeaths60s))"
   ]
  },
  {
   "cell_type": "code",
   "execution_count": 38,
   "metadata": {
    "collapsed": true
   },
   "outputs": [],
   "source": [
    "men60counts = malesDeaths60s[['Icd10Code', 'Id']].groupby(['Icd10Code'], as_index=False).count()"
   ]
  },
  {
   "cell_type": "code",
   "execution_count": 39,
   "metadata": {
    "collapsed": false
   },
   "outputs": [
    {
     "data": {
      "text/html": [
       "<div>\n",
       "<table border=\"1\" class=\"dataframe\">\n",
       "  <thead>\n",
       "    <tr style=\"text-align: right;\">\n",
       "      <th></th>\n",
       "      <th>Icd10Code</th>\n",
       "      <th>Id</th>\n",
       "      <th>dx</th>\n",
       "    </tr>\n",
       "  </thead>\n",
       "  <tbody>\n",
       "    <tr>\n",
       "      <th>237</th>\n",
       "      <td>C349</td>\n",
       "      <td>23961</td>\n",
       "      <td>Malignant neoplasm: Bronchus or lung, unspecified</td>\n",
       "    </tr>\n",
       "    <tr>\n",
       "      <th>864</th>\n",
       "      <td>I219</td>\n",
       "      <td>14724</td>\n",
       "      <td>Acute myocardial infarction, unspecified</td>\n",
       "    </tr>\n",
       "    <tr>\n",
       "      <th>869</th>\n",
       "      <td>I251</td>\n",
       "      <td>13862</td>\n",
       "      <td>Atherosclerotic heart disease</td>\n",
       "    </tr>\n",
       "    <tr>\n",
       "      <th>868</th>\n",
       "      <td>I250</td>\n",
       "      <td>9635</td>\n",
       "      <td>Atherosclerotic cardiovascular disease, so des...</td>\n",
       "    </tr>\n",
       "    <tr>\n",
       "      <th>1112</th>\n",
       "      <td>J449</td>\n",
       "      <td>9630</td>\n",
       "      <td>Chronic obstructive pulmonary disease, unspeci...</td>\n",
       "    </tr>\n",
       "    <tr>\n",
       "      <th>218</th>\n",
       "      <td>C259</td>\n",
       "      <td>6017</td>\n",
       "      <td>Malignant neoplasm: Pancreas, unspecified</td>\n",
       "    </tr>\n",
       "    <tr>\n",
       "      <th>197</th>\n",
       "      <td>C189</td>\n",
       "      <td>4977</td>\n",
       "      <td>Malignant neoplasm: Colon, unspecified</td>\n",
       "    </tr>\n",
       "    <tr>\n",
       "      <th>289</th>\n",
       "      <td>C61</td>\n",
       "      <td>4660</td>\n",
       "      <td>Malignant neoplasm of prostate</td>\n",
       "    </tr>\n",
       "    <tr>\n",
       "      <th>579</th>\n",
       "      <td>E149</td>\n",
       "      <td>4204</td>\n",
       "      <td>Unspecified diabetes mellitus: Without complic...</td>\n",
       "    </tr>\n",
       "    <tr>\n",
       "      <th>183</th>\n",
       "      <td>C159</td>\n",
       "      <td>3826</td>\n",
       "      <td>Malignant neoplasm: Oesophagus, unspecified</td>\n",
       "    </tr>\n",
       "    <tr>\n",
       "      <th>974</th>\n",
       "      <td>I64</td>\n",
       "      <td>3797</td>\n",
       "      <td>Stroke, not specified as haemorrhage or infarc...</td>\n",
       "    </tr>\n",
       "    <tr>\n",
       "      <th>851</th>\n",
       "      <td>I119</td>\n",
       "      <td>3676</td>\n",
       "      <td>Hypertensive heart disease without (congestive...</td>\n",
       "    </tr>\n",
       "    <tr>\n",
       "      <th>33</th>\n",
       "      <td>A419</td>\n",
       "      <td>3490</td>\n",
       "      <td>Sepsis, unspecified</td>\n",
       "    </tr>\n",
       "    <tr>\n",
       "      <th>354</th>\n",
       "      <td>C80</td>\n",
       "      <td>3403</td>\n",
       "      <td>Malignant neoplasm, without specification of site</td>\n",
       "    </tr>\n",
       "    <tr>\n",
       "      <th>1285</th>\n",
       "      <td>K746</td>\n",
       "      <td>3329</td>\n",
       "      <td>Other and unspecified cirrhosis of liver</td>\n",
       "    </tr>\n",
       "  </tbody>\n",
       "</table>\n",
       "</div>"
      ],
      "text/plain": [
       "     Icd10Code     Id                                                 dx\n",
       "237       C349  23961  Malignant neoplasm: Bronchus or lung, unspecified\n",
       "864       I219  14724           Acute myocardial infarction, unspecified\n",
       "869       I251  13862                      Atherosclerotic heart disease\n",
       "868       I250   9635  Atherosclerotic cardiovascular disease, so des...\n",
       "1112      J449   9630  Chronic obstructive pulmonary disease, unspeci...\n",
       "218       C259   6017          Malignant neoplasm: Pancreas, unspecified\n",
       "197       C189   4977             Malignant neoplasm: Colon, unspecified\n",
       "289        C61   4660                     Malignant neoplasm of prostate\n",
       "579       E149   4204  Unspecified diabetes mellitus: Without complic...\n",
       "183       C159   3826        Malignant neoplasm: Oesophagus, unspecified\n",
       "974        I64   3797  Stroke, not specified as haemorrhage or infarc...\n",
       "851       I119   3676  Hypertensive heart disease without (congestive...\n",
       "33        A419   3490                                Sepsis, unspecified\n",
       "354        C80   3403  Malignant neoplasm, without specification of site\n",
       "1285      K746   3329           Other and unspecified cirrhosis of liver"
      ]
     },
     "execution_count": 39,
     "metadata": {},
     "output_type": "execute_result"
    }
   ],
   "source": [
    "most_common_causes = pd.merge(men60counts, dficd, how='left', on='Icd10Code')\n",
    "most_common_causes = most_common_causes.sort_values(by=['Id'],ascending=False)\n",
    "most_common_causes.head(15)"
   ]
  },
  {
   "cell_type": "code",
   "execution_count": 40,
   "metadata": {
    "collapsed": true
   },
   "outputs": [],
   "source": [
    "femaleDeaths60s=femaleDeaths[femaleDeaths.Age>=60][femaleDeaths.Age<70]\n",
    "dficd.columns= ['Icd10Code', 'dx']\n",
    "femaleDeaths60s =  pd.merge(femaleDeaths60s, dficd, how='left', on='Icd10Code')"
   ]
  },
  {
   "cell_type": "code",
   "execution_count": 46,
   "metadata": {
    "collapsed": false
   },
   "outputs": [
    {
     "name": "stdout",
     "output_type": "stream",
     "text": [
      "('number of men deaths in 60s', 232459)\n"
     ]
    }
   ],
   "source": [
    "print (\"number of men deaths in 60s\",len(malesDeaths60s))\n"
   ]
  },
  {
   "cell_type": "code",
   "execution_count": 42,
   "metadata": {
    "collapsed": true
   },
   "outputs": [],
   "source": [
    "men60counts = malesDeaths60s[['Icd10Code', 'Id']].groupby(['Icd10Code'], as_index=False).count()"
   ]
  },
  {
   "cell_type": "code",
   "execution_count": 43,
   "metadata": {
    "collapsed": false
   },
   "outputs": [
    {
     "data": {
      "text/html": [
       "<div>\n",
       "<table border=\"1\" class=\"dataframe\">\n",
       "  <thead>\n",
       "    <tr style=\"text-align: right;\">\n",
       "      <th></th>\n",
       "      <th>Icd10Code</th>\n",
       "      <th>Id</th>\n",
       "      <th>dx</th>\n",
       "    </tr>\n",
       "  </thead>\n",
       "  <tbody>\n",
       "    <tr>\n",
       "      <th>237</th>\n",
       "      <td>C349</td>\n",
       "      <td>23961</td>\n",
       "      <td>Malignant neoplasm: Bronchus or lung, unspecified</td>\n",
       "    </tr>\n",
       "    <tr>\n",
       "      <th>864</th>\n",
       "      <td>I219</td>\n",
       "      <td>14724</td>\n",
       "      <td>Acute myocardial infarction, unspecified</td>\n",
       "    </tr>\n",
       "    <tr>\n",
       "      <th>869</th>\n",
       "      <td>I251</td>\n",
       "      <td>13862</td>\n",
       "      <td>Atherosclerotic heart disease</td>\n",
       "    </tr>\n",
       "    <tr>\n",
       "      <th>868</th>\n",
       "      <td>I250</td>\n",
       "      <td>9635</td>\n",
       "      <td>Atherosclerotic cardiovascular disease, so des...</td>\n",
       "    </tr>\n",
       "    <tr>\n",
       "      <th>1112</th>\n",
       "      <td>J449</td>\n",
       "      <td>9630</td>\n",
       "      <td>Chronic obstructive pulmonary disease, unspeci...</td>\n",
       "    </tr>\n",
       "    <tr>\n",
       "      <th>218</th>\n",
       "      <td>C259</td>\n",
       "      <td>6017</td>\n",
       "      <td>Malignant neoplasm: Pancreas, unspecified</td>\n",
       "    </tr>\n",
       "    <tr>\n",
       "      <th>197</th>\n",
       "      <td>C189</td>\n",
       "      <td>4977</td>\n",
       "      <td>Malignant neoplasm: Colon, unspecified</td>\n",
       "    </tr>\n",
       "    <tr>\n",
       "      <th>289</th>\n",
       "      <td>C61</td>\n",
       "      <td>4660</td>\n",
       "      <td>Malignant neoplasm of prostate</td>\n",
       "    </tr>\n",
       "    <tr>\n",
       "      <th>579</th>\n",
       "      <td>E149</td>\n",
       "      <td>4204</td>\n",
       "      <td>Unspecified diabetes mellitus: Without complic...</td>\n",
       "    </tr>\n",
       "    <tr>\n",
       "      <th>183</th>\n",
       "      <td>C159</td>\n",
       "      <td>3826</td>\n",
       "      <td>Malignant neoplasm: Oesophagus, unspecified</td>\n",
       "    </tr>\n",
       "    <tr>\n",
       "      <th>974</th>\n",
       "      <td>I64</td>\n",
       "      <td>3797</td>\n",
       "      <td>Stroke, not specified as haemorrhage or infarc...</td>\n",
       "    </tr>\n",
       "    <tr>\n",
       "      <th>851</th>\n",
       "      <td>I119</td>\n",
       "      <td>3676</td>\n",
       "      <td>Hypertensive heart disease without (congestive...</td>\n",
       "    </tr>\n",
       "    <tr>\n",
       "      <th>33</th>\n",
       "      <td>A419</td>\n",
       "      <td>3490</td>\n",
       "      <td>Sepsis, unspecified</td>\n",
       "    </tr>\n",
       "    <tr>\n",
       "      <th>354</th>\n",
       "      <td>C80</td>\n",
       "      <td>3403</td>\n",
       "      <td>Malignant neoplasm, without specification of site</td>\n",
       "    </tr>\n",
       "    <tr>\n",
       "      <th>1285</th>\n",
       "      <td>K746</td>\n",
       "      <td>3329</td>\n",
       "      <td>Other and unspecified cirrhosis of liver</td>\n",
       "    </tr>\n",
       "  </tbody>\n",
       "</table>\n",
       "</div>"
      ],
      "text/plain": [
       "     Icd10Code     Id                                                 dx\n",
       "237       C349  23961  Malignant neoplasm: Bronchus or lung, unspecified\n",
       "864       I219  14724           Acute myocardial infarction, unspecified\n",
       "869       I251  13862                      Atherosclerotic heart disease\n",
       "868       I250   9635  Atherosclerotic cardiovascular disease, so des...\n",
       "1112      J449   9630  Chronic obstructive pulmonary disease, unspeci...\n",
       "218       C259   6017          Malignant neoplasm: Pancreas, unspecified\n",
       "197       C189   4977             Malignant neoplasm: Colon, unspecified\n",
       "289        C61   4660                     Malignant neoplasm of prostate\n",
       "579       E149   4204  Unspecified diabetes mellitus: Without complic...\n",
       "183       C159   3826        Malignant neoplasm: Oesophagus, unspecified\n",
       "974        I64   3797  Stroke, not specified as haemorrhage or infarc...\n",
       "851       I119   3676  Hypertensive heart disease without (congestive...\n",
       "33        A419   3490                                Sepsis, unspecified\n",
       "354        C80   3403  Malignant neoplasm, without specification of site\n",
       "1285      K746   3329           Other and unspecified cirrhosis of liver"
      ]
     },
     "execution_count": 43,
     "metadata": {},
     "output_type": "execute_result"
    }
   ],
   "source": [
    "most_common_causes = pd.merge(men60counts, dficd, how='left', on='Icd10Code')\n",
    "most_common_causes = most_common_causes.sort_values(by=['Id'],ascending=False)\n",
    "most_common_causes.head(15)"
   ]
  },
  {
   "cell_type": "code",
   "execution_count": 45,
   "metadata": {
    "collapsed": false
   },
   "outputs": [
    {
     "name": "stdout",
     "output_type": "stream",
     "text": [
      "('number of women deaths in 60s', 162882)\n"
     ]
    },
    {
     "data": {
      "text/html": [
       "<div>\n",
       "<table border=\"1\" class=\"dataframe\">\n",
       "  <thead>\n",
       "    <tr style=\"text-align: right;\">\n",
       "      <th></th>\n",
       "      <th>Icd10Code</th>\n",
       "      <th>Id</th>\n",
       "      <th>dx</th>\n",
       "    </tr>\n",
       "  </thead>\n",
       "  <tbody>\n",
       "    <tr>\n",
       "      <th>213</th>\n",
       "      <td>C349</td>\n",
       "      <td>17648</td>\n",
       "      <td>Malignant neoplasm: Bronchus or lung, unspecified</td>\n",
       "    </tr>\n",
       "    <tr>\n",
       "      <th>260</th>\n",
       "      <td>C509</td>\n",
       "      <td>9778</td>\n",
       "      <td>Malignant neoplasm: Breast, unspecified</td>\n",
       "    </tr>\n",
       "    <tr>\n",
       "      <th>1058</th>\n",
       "      <td>J449</td>\n",
       "      <td>8833</td>\n",
       "      <td>Chronic obstructive pulmonary disease, unspeci...</td>\n",
       "    </tr>\n",
       "    <tr>\n",
       "      <th>821</th>\n",
       "      <td>I219</td>\n",
       "      <td>6700</td>\n",
       "      <td>Acute myocardial infarction, unspecified</td>\n",
       "    </tr>\n",
       "    <tr>\n",
       "      <th>825</th>\n",
       "      <td>I251</td>\n",
       "      <td>6117</td>\n",
       "      <td>Atherosclerotic heart disease</td>\n",
       "    </tr>\n",
       "    <tr>\n",
       "      <th>195</th>\n",
       "      <td>C259</td>\n",
       "      <td>4487</td>\n",
       "      <td>Malignant neoplasm: Pancreas, unspecified</td>\n",
       "    </tr>\n",
       "    <tr>\n",
       "      <th>269</th>\n",
       "      <td>C56</td>\n",
       "      <td>3686</td>\n",
       "      <td>Malignant neoplasm of ovary</td>\n",
       "    </tr>\n",
       "    <tr>\n",
       "      <th>824</th>\n",
       "      <td>I250</td>\n",
       "      <td>3539</td>\n",
       "      <td>Atherosclerotic cardiovascular disease, so des...</td>\n",
       "    </tr>\n",
       "    <tr>\n",
       "      <th>174</th>\n",
       "      <td>C189</td>\n",
       "      <td>3513</td>\n",
       "      <td>Malignant neoplasm: Colon, unspecified</td>\n",
       "    </tr>\n",
       "    <tr>\n",
       "      <th>32</th>\n",
       "      <td>A419</td>\n",
       "      <td>3099</td>\n",
       "      <td>Sepsis, unspecified</td>\n",
       "    </tr>\n",
       "    <tr>\n",
       "      <th>930</th>\n",
       "      <td>I64</td>\n",
       "      <td>2750</td>\n",
       "      <td>Stroke, not specified as haemorrhage or infarc...</td>\n",
       "    </tr>\n",
       "    <tr>\n",
       "      <th>545</th>\n",
       "      <td>E149</td>\n",
       "      <td>2573</td>\n",
       "      <td>Unspecified diabetes mellitus: Without complic...</td>\n",
       "    </tr>\n",
       "    <tr>\n",
       "      <th>328</th>\n",
       "      <td>C80</td>\n",
       "      <td>2502</td>\n",
       "      <td>Malignant neoplasm, without specification of site</td>\n",
       "    </tr>\n",
       "    <tr>\n",
       "      <th>1035</th>\n",
       "      <td>J189</td>\n",
       "      <td>2160</td>\n",
       "      <td>Pneumonia, unspecified</td>\n",
       "    </tr>\n",
       "    <tr>\n",
       "      <th>1217</th>\n",
       "      <td>K746</td>\n",
       "      <td>1949</td>\n",
       "      <td>Other and unspecified cirrhosis of liver</td>\n",
       "    </tr>\n",
       "  </tbody>\n",
       "</table>\n",
       "</div>"
      ],
      "text/plain": [
       "     Icd10Code     Id                                                 dx\n",
       "213       C349  17648  Malignant neoplasm: Bronchus or lung, unspecified\n",
       "260       C509   9778            Malignant neoplasm: Breast, unspecified\n",
       "1058      J449   8833  Chronic obstructive pulmonary disease, unspeci...\n",
       "821       I219   6700           Acute myocardial infarction, unspecified\n",
       "825       I251   6117                      Atherosclerotic heart disease\n",
       "195       C259   4487          Malignant neoplasm: Pancreas, unspecified\n",
       "269        C56   3686                        Malignant neoplasm of ovary\n",
       "824       I250   3539  Atherosclerotic cardiovascular disease, so des...\n",
       "174       C189   3513             Malignant neoplasm: Colon, unspecified\n",
       "32        A419   3099                                Sepsis, unspecified\n",
       "930        I64   2750  Stroke, not specified as haemorrhage or infarc...\n",
       "545       E149   2573  Unspecified diabetes mellitus: Without complic...\n",
       "328        C80   2502  Malignant neoplasm, without specification of site\n",
       "1035      J189   2160                             Pneumonia, unspecified\n",
       "1217      K746   1949           Other and unspecified cirrhosis of liver"
      ]
     },
     "execution_count": 45,
     "metadata": {},
     "output_type": "execute_result"
    }
   ],
   "source": [
    "femaleDeaths60s=femaleDeaths[femaleDeaths.Age>=60][femaleDeaths.Age<70]\n",
    "dficd.columns= ['Icd10Code', 'dx']\n",
    "femaleDeaths60s =  pd.merge(femaleDeaths60s, dficd, how='left', on='Icd10Code')\n",
    "print (\"number of women deaths in 60s\",len(femaleDeaths60s))\n",
    "women60counts = femaleDeaths60s[['Icd10Code', 'Id']].groupby(['Icd10Code'], as_index=False).count()\n",
    "most_common_causes = pd.merge(women60counts, dficd, how='left', on='Icd10Code')\n",
    "most_common_causes = most_common_causes.sort_values(by=['Id'],ascending=False)\n",
    "most_common_causes.head(15)"
   ]
  },
  {
   "cell_type": "code",
   "execution_count": null,
   "metadata": {
    "collapsed": true
   },
   "outputs": [],
   "source": []
  }
 ],
 "metadata": {
  "anaconda-cloud": {},
  "kernelspec": {
   "display_name": "Python [default]",
   "language": "python",
   "name": "python2"
  },
  "language_info": {
   "codemirror_mode": {
    "name": "ipython",
    "version": 2
   },
   "file_extension": ".py",
   "mimetype": "text/x-python",
   "name": "python",
   "nbconvert_exporter": "python",
   "pygments_lexer": "ipython2",
   "version": "2.7.12"
  }
 },
 "nbformat": 4,
 "nbformat_minor": 1
}
